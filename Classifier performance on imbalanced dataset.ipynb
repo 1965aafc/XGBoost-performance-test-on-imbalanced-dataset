{
 "cells": [
  {
   "cell_type": "markdown",
   "metadata": {},
   "source": [
    "Scadi Dataset is  contains 206 attributes of 70 children with physical and motor disability based on ICF-CY and was donated by S.M.M. Fatemi Bushehri for research purposes. The 'Class' field refers to the presence of the self-care problems of the children with physical and motor disabilities and are determined by occupational therapists. "
   ]
  },
  {
   "cell_type": "code",
   "execution_count": 111,
   "metadata": {},
   "outputs": [],
   "source": [
    "import xgboost as xgb  \n",
    "import pandas as pd\n",
    "import numpy as np\n",
    "from sklearn.metrics import roc_curve, precision_recall_curve, auc, recall_score, accuracy_score, precision_score, confusion_matrix\n",
    "from sklearn.neural_network import MLPClassifier\n",
    "from sklearn.neighbors import KNeighborsClassifier\n",
    "from sklearn.tree import DecisionTreeClassifier\n",
    "from sklearn.ensemble import RandomForestClassifier, AdaBoostClassifier\n",
    "from sklearn.naive_bayes import GaussianNB\n",
    "from sklearn.ensemble import IsolationForest\n",
    "from sklearn.model_selection import train_test_split,  StratifiedKFold,KFold\n",
    "from sklearn import tree\n",
    "from sklearn.svm import LinearSVC\n",
    "from sklearn.model_selection import cross_val_predict\n",
    "from sklearn.decomposition import PCA,TruncatedSVD,KernelPCA\n",
    "from termcolor import colored\n",
    "from sklearn.metrics import classification_report\n",
    "import matplotlib.pyplot as plt\n",
    "import graphviz \n",
    "from imblearn.over_sampling import RandomOverSampler\n",
    "import seaborn as sns\n",
    "from imblearn.combine import SMOTEENN,SMOTETomek\n",
    "import warnings\n",
    "\n",
    "warnings.filterwarnings(action='ignore', category=DeprecationWarning)\n"
   ]
  },
  {
   "cell_type": "markdown",
   "metadata": {},
   "source": [
    "Let's set up the Classifiers."
   ]
  },
  {
   "cell_type": "code",
   "execution_count": 112,
   "metadata": {},
   "outputs": [],
   "source": [
    "xgb1 = xgb.XGBClassifier(early_stopping=4,max_depth=4,learning_rate=0.001,n_estimators=30,booster='gbtree',min_samples_split =2)\n",
    "forest=RandomForestClassifier(max_depth = 5,bootstrap=True, n_estimators=150, max_features=3,min_samples_split=3,n_jobs=1,criterion=\"entropy\")\n",
    "cart=DecisionTreeClassifier(criterion =\"gini\",splitter=\"best\",max_depth=7)\n",
    "adaboost=AdaBoostClassifier(tree.DecisionTreeClassifier(criterion =\"gini\",splitter=\"best\",max_depth=4,min_samples_split =2,\n",
    "                               min_samples_leaf=2,max_features=3,max_leaf_nodes = 4),\n",
    "                               n_estimators=300,\n",
    "                               learning_rate=0.01) \n",
    "svm=LinearSVC(C=1.0, class_weight=None, dual=False, fit_intercept=True,\n",
    "     intercept_scaling=1, loss='squared_hinge', max_iter=1000,\n",
    "     multi_class='ovr', penalty='l2', random_state=0, tol=0.0001,\n",
    "     verbose=0)\n",
    "neural=MLPClassifier(early_stopping =False,hidden_layer_sizes = 150 ,solver='lbfgs')\n",
    "naive_bayes=GaussianNB()\n",
    "knn=KNeighborsClassifier(n_neighbors=2,weights= \"distance\",algorithm =\"kd_tree\",leaf_size =30,p=1)"
   ]
  },
  {
   "cell_type": "code",
   "execution_count": 113,
   "metadata": {},
   "outputs": [
    {
     "name": "stdout",
     "output_type": "stream",
     "text": [
      "Give filepath to Dataset : C:\\Users\\Socrates\\Desktop\\Διπλωματικη\\scadi\\SCADI.csv\n"
     ]
    },
    {
     "data": {
      "text/html": [
       "<div>\n",
       "<style scoped>\n",
       "    .dataframe tbody tr th:only-of-type {\n",
       "        vertical-align: middle;\n",
       "    }\n",
       "\n",
       "    .dataframe tbody tr th {\n",
       "        vertical-align: top;\n",
       "    }\n",
       "\n",
       "    .dataframe thead th {\n",
       "        text-align: right;\n",
       "    }\n",
       "</style>\n",
       "<table border=\"1\" class=\"dataframe\">\n",
       "  <thead>\n",
       "    <tr style=\"text-align: right;\">\n",
       "      <th></th>\n",
       "      <th>Gender</th>\n",
       "      <th>Age</th>\n",
       "      <th>d 5100-0</th>\n",
       "      <th>d 5100-1</th>\n",
       "      <th>d 5100-2</th>\n",
       "      <th>d 5100-3</th>\n",
       "      <th>d 5100-4</th>\n",
       "      <th>d 5100-8</th>\n",
       "      <th>d 5100-9</th>\n",
       "      <th>d 5101-0</th>\n",
       "      <th>...</th>\n",
       "      <th>d 57022-8</th>\n",
       "      <th>d 57022-9</th>\n",
       "      <th>d 571-0</th>\n",
       "      <th>d 571-1</th>\n",
       "      <th>d 571-2</th>\n",
       "      <th>d 571-3</th>\n",
       "      <th>d 571-4</th>\n",
       "      <th>d 571-8</th>\n",
       "      <th>d 571-9</th>\n",
       "      <th>Classes</th>\n",
       "    </tr>\n",
       "  </thead>\n",
       "  <tbody>\n",
       "    <tr>\n",
       "      <th>0</th>\n",
       "      <td>0</td>\n",
       "      <td>18</td>\n",
       "      <td>0</td>\n",
       "      <td>0</td>\n",
       "      <td>0</td>\n",
       "      <td>0</td>\n",
       "      <td>1</td>\n",
       "      <td>0</td>\n",
       "      <td>0</td>\n",
       "      <td>0</td>\n",
       "      <td>...</td>\n",
       "      <td>0</td>\n",
       "      <td>0</td>\n",
       "      <td>0</td>\n",
       "      <td>0</td>\n",
       "      <td>0</td>\n",
       "      <td>0</td>\n",
       "      <td>1</td>\n",
       "      <td>0</td>\n",
       "      <td>0</td>\n",
       "      <td>class6</td>\n",
       "    </tr>\n",
       "    <tr>\n",
       "      <th>1</th>\n",
       "      <td>0</td>\n",
       "      <td>22</td>\n",
       "      <td>0</td>\n",
       "      <td>0</td>\n",
       "      <td>0</td>\n",
       "      <td>0</td>\n",
       "      <td>1</td>\n",
       "      <td>0</td>\n",
       "      <td>0</td>\n",
       "      <td>0</td>\n",
       "      <td>...</td>\n",
       "      <td>0</td>\n",
       "      <td>0</td>\n",
       "      <td>0</td>\n",
       "      <td>0</td>\n",
       "      <td>0</td>\n",
       "      <td>1</td>\n",
       "      <td>0</td>\n",
       "      <td>0</td>\n",
       "      <td>0</td>\n",
       "      <td>class6</td>\n",
       "    </tr>\n",
       "    <tr>\n",
       "      <th>2</th>\n",
       "      <td>0</td>\n",
       "      <td>18</td>\n",
       "      <td>0</td>\n",
       "      <td>0</td>\n",
       "      <td>0</td>\n",
       "      <td>1</td>\n",
       "      <td>0</td>\n",
       "      <td>0</td>\n",
       "      <td>0</td>\n",
       "      <td>0</td>\n",
       "      <td>...</td>\n",
       "      <td>0</td>\n",
       "      <td>0</td>\n",
       "      <td>0</td>\n",
       "      <td>0</td>\n",
       "      <td>0</td>\n",
       "      <td>1</td>\n",
       "      <td>0</td>\n",
       "      <td>0</td>\n",
       "      <td>0</td>\n",
       "      <td>class6</td>\n",
       "    </tr>\n",
       "    <tr>\n",
       "      <th>3</th>\n",
       "      <td>1</td>\n",
       "      <td>18</td>\n",
       "      <td>0</td>\n",
       "      <td>0</td>\n",
       "      <td>0</td>\n",
       "      <td>0</td>\n",
       "      <td>1</td>\n",
       "      <td>0</td>\n",
       "      <td>0</td>\n",
       "      <td>0</td>\n",
       "      <td>...</td>\n",
       "      <td>0</td>\n",
       "      <td>0</td>\n",
       "      <td>0</td>\n",
       "      <td>0</td>\n",
       "      <td>1</td>\n",
       "      <td>0</td>\n",
       "      <td>0</td>\n",
       "      <td>0</td>\n",
       "      <td>0</td>\n",
       "      <td>class6</td>\n",
       "    </tr>\n",
       "    <tr>\n",
       "      <th>4</th>\n",
       "      <td>0</td>\n",
       "      <td>19</td>\n",
       "      <td>0</td>\n",
       "      <td>0</td>\n",
       "      <td>0</td>\n",
       "      <td>0</td>\n",
       "      <td>1</td>\n",
       "      <td>0</td>\n",
       "      <td>0</td>\n",
       "      <td>0</td>\n",
       "      <td>...</td>\n",
       "      <td>0</td>\n",
       "      <td>0</td>\n",
       "      <td>0</td>\n",
       "      <td>0</td>\n",
       "      <td>1</td>\n",
       "      <td>0</td>\n",
       "      <td>0</td>\n",
       "      <td>0</td>\n",
       "      <td>0</td>\n",
       "      <td>class6</td>\n",
       "    </tr>\n",
       "  </tbody>\n",
       "</table>\n",
       "<p>5 rows × 206 columns</p>\n",
       "</div>"
      ],
      "text/plain": [
       "   Gender  Age  d 5100-0  d 5100-1  d 5100-2  d 5100-3  d 5100-4  d 5100-8  \\\n",
       "0       0   18         0         0         0         0         1         0   \n",
       "1       0   22         0         0         0         0         1         0   \n",
       "2       0   18         0         0         0         1         0         0   \n",
       "3       1   18         0         0         0         0         1         0   \n",
       "4       0   19         0         0         0         0         1         0   \n",
       "\n",
       "   d 5100-9  d 5101-0   ...     d 57022-8  d 57022-9  d 571-0  d 571-1  \\\n",
       "0         0         0   ...             0          0        0        0   \n",
       "1         0         0   ...             0          0        0        0   \n",
       "2         0         0   ...             0          0        0        0   \n",
       "3         0         0   ...             0          0        0        0   \n",
       "4         0         0   ...             0          0        0        0   \n",
       "\n",
       "   d 571-2  d 571-3  d 571-4  d 571-8  d 571-9  Classes  \n",
       "0        0        0        1        0        0   class6  \n",
       "1        0        1        0        0        0   class6  \n",
       "2        0        1        0        0        0   class6  \n",
       "3        1        0        0        0        0   class6  \n",
       "4        1        0        0        0        0   class6  \n",
       "\n",
       "[5 rows x 206 columns]"
      ]
     },
     "execution_count": 113,
     "metadata": {},
     "output_type": "execute_result"
    }
   ],
   "source": [
    "filepath = input('Give filepath to Dataset : ')\n",
    "train=pd.read_csv(str(filepath), engine='python',error_bad_lines=False)\n",
    "y = train['Classes']\n",
    "X=train.drop(['Classes'],axis=1)\n",
    "train.head()"
   ]
  },
  {
   "cell_type": "markdown",
   "metadata": {},
   "source": [
    "One common problem for medical datasets is that the dataset may contain a small number of samples.In this case, our dataset not only has a small number of instances (70 cases of children) but also the class feature has 7 label, making it difficult to make a model with high accuracy for each class label without overfitting.Let's have a look at the frequency of each class label and the number of instances for each label. "
   ]
  },
  {
   "cell_type": "code",
   "execution_count": 114,
   "metadata": {},
   "outputs": [
    {
     "name": "stdout",
     "output_type": "stream",
     "text": [
      "percentage of class 1: 2.857142857142857 %\n",
      "percentage of class 2: 10.0 %\n",
      "percentage of class 3: 1.4285714285714286 %\n",
      "percentage of class 4: 17.142857142857142 %\n",
      "percentage of class 5: 4.285714285714286 %\n",
      "percentage of class 6: 41.42857142857143 %\n",
      "percentage of class 7: 22.857142857142858 %\n",
      "samples of class 1: 2\n",
      "samples of class 2: 7\n",
      "samples of class 3: 1\n",
      "samples of class 4: 12\n",
      "samples of class 5: 3\n",
      "samples of class 6: 29\n",
      "samples of class 7: 16\n"
     ]
    }
   ],
   "source": [
    "print('percentage of class 1:',100*len(train.loc[train.Classes=='class1'])/float(len(train.Classes)), '%')\n",
    "print('percentage of class 2:',100*len(train.loc[train.Classes=='class2'])/float(len(train.Classes)), '%')\n",
    "print('percentage of class 3:',100*len(train.loc[train.Classes=='class3'])/float(len(train.Classes)), '%')\n",
    "print('percentage of class 4:',100*len(train.loc[train.Classes=='class4'])/float(len(train.Classes)), '%')\n",
    "print('percentage of class 5:',100*len(train.loc[train.Classes=='class5'])/float(len(train.Classes)), '%')\n",
    "print('percentage of class 6:',100*len(train.loc[train.Classes=='class6'])/float(len(train.Classes)), '%')\n",
    "print('percentage of class 7:',100*len(train.loc[train.Classes=='class7'])/float(len(train.Classes)), '%')\n",
    "\n",
    "print('samples of class 1:',len(train.loc[train.Classes=='class1']))\n",
    "print('samples of class 2:',len(train.loc[train.Classes=='class2']))\n",
    "print('samples of class 3:',len(train.loc[train.Classes=='class3']))\n",
    "print('samples of class 4:',len(train.loc[train.Classes=='class4']))\n",
    "print('samples of class 5:',len(train.loc[train.Classes=='class5']))\n",
    "print('samples of class 6:',len(train.loc[train.Classes=='class6']))\n",
    "print('samples of class 7:',len(train.loc[train.Classes =='class7']))"
   ]
  },
  {
   "cell_type": "code",
   "execution_count": 115,
   "metadata": {},
   "outputs": [
    {
     "data": {
      "text/plain": [
       "<matplotlib.axes._subplots.AxesSubplot at 0x2011d669ac8>"
      ]
     },
     "execution_count": 115,
     "metadata": {},
     "output_type": "execute_result"
    },
    {
     "data": {
      "image/png": "[encoded data removed]",
      "text/plain": [
       "<Figure size 432x288 with 1 Axes>"
      ]
     },
     "metadata": {},
     "output_type": "display_data"
    }
   ],
   "source": [
    "train.Classes.value_counts().plot(kind='bar', title='Count (target)')"
   ]
  },
  {
   "cell_type": "markdown",
   "metadata": {},
   "source": [
    "Class label 1 appears only 2 times in the dataset while class label 3 only once making it really hard to build a model that predicts those label. To overcome this difficulty i will use  random oversampling. An alternative would be to use a technique called S.M.O.T.E (Synthetic Minority Over-sampling Technique) introduced in 2002 by Chawla, Bowyer, Hall & Kegelmeyer. "
   ]
  },
  {
   "cell_type": "code",
   "execution_count": 116,
   "metadata": {},
   "outputs": [],
   "source": [
    "# we can either choose the number of samples we want to add to each label by passing a dictionary\n",
    "#dic={'class3':13,'class1':13,'class5':13}\n",
    "#ros = RandomOverSampler(dic)\n",
    "# or we can let it choose by itself.\n",
    "ros = RandomOverSampler()\n",
    "#sme = SMOTE(ratio='minority')\n",
    "X_ros,y_ros=ros.fit_sample(X, y)"
   ]
  },
  {
   "cell_type": "code",
   "execution_count": 117,
   "metadata": {},
   "outputs": [
    {
     "name": "stdout",
     "output_type": "stream",
     "text": [
      "133 new random picked points\n"
     ]
    }
   ],
   "source": [
    "print(X_ros.shape[0] - X.shape[0], 'new random picked points')"
   ]
  },
  {
   "cell_type": "code",
   "execution_count": 118,
   "metadata": {},
   "outputs": [],
   "source": [
    "X_ros=pd.DataFrame(data=X_ros,columns=X.columns)\n",
    "y_ros=pd.DataFrame(data=y_ros)"
   ]
  },
  {
   "cell_type": "markdown",
   "metadata": {},
   "source": [
    "To test the strength of our model we are going to use 10-fold cross validation"
   ]
  },
  {
   "cell_type": "code",
   "execution_count": 119,
   "metadata": {},
   "outputs": [],
   "source": [
    "cv = KFold(n_splits=10,shuffle=True,random_state = 666)"
   ]
  },
  {
   "cell_type": "code",
   "execution_count": 120,
   "metadata": {},
   "outputs": [
    {
     "name": "stderr",
     "output_type": "stream",
     "text": [
      "C:\\Users\\Socrates\\Anaconda3\\lib\\site-packages\\sklearn\\preprocessing\\label.py:95: DataConversionWarning: A column-vector y was passed when a 1d array was expected. Please change the shape of y to (n_samples, ), for example using ravel().\n",
      "  y = column_or_1d(y, warn=True)\n",
      "C:\\Users\\Socrates\\Anaconda3\\lib\\site-packages\\sklearn\\preprocessing\\label.py:128: DataConversionWarning: A column-vector y was passed when a 1d array was expected. Please change the shape of y to (n_samples, ), for example using ravel().\n",
      "  y = column_or_1d(y, warn=True)\n"
     ]
    },
    {
     "name": "stdout",
     "output_type": "stream",
     "text": [
      " xgb accuracy in  1  fold :  0.9571428571428572\n"
     ]
    },
    {
     "name": "stderr",
     "output_type": "stream",
     "text": [
      "C:\\Users\\Socrates\\Anaconda3\\lib\\site-packages\\sklearn\\preprocessing\\label.py:95: DataConversionWarning: A column-vector y was passed when a 1d array was expected. Please change the shape of y to (n_samples, ), for example using ravel().\n",
      "  y = column_or_1d(y, warn=True)\n",
      "C:\\Users\\Socrates\\Anaconda3\\lib\\site-packages\\sklearn\\preprocessing\\label.py:128: DataConversionWarning: A column-vector y was passed when a 1d array was expected. Please change the shape of y to (n_samples, ), for example using ravel().\n",
      "  y = column_or_1d(y, warn=True)\n"
     ]
    },
    {
     "name": "stdout",
     "output_type": "stream",
     "text": [
      " xgb accuracy in  2  fold :  0.9571428571428572\n"
     ]
    },
    {
     "name": "stderr",
     "output_type": "stream",
     "text": [
      "C:\\Users\\Socrates\\Anaconda3\\lib\\site-packages\\sklearn\\preprocessing\\label.py:95: DataConversionWarning: A column-vector y was passed when a 1d array was expected. Please change the shape of y to (n_samples, ), for example using ravel().\n",
      "  y = column_or_1d(y, warn=True)\n",
      "C:\\Users\\Socrates\\Anaconda3\\lib\\site-packages\\sklearn\\preprocessing\\label.py:128: DataConversionWarning: A column-vector y was passed when a 1d array was expected. Please change the shape of y to (n_samples, ), for example using ravel().\n",
      "  y = column_or_1d(y, warn=True)\n"
     ]
    },
    {
     "name": "stdout",
     "output_type": "stream",
     "text": [
      " xgb accuracy in  3  fold :  0.9857142857142858\n"
     ]
    },
    {
     "name": "stderr",
     "output_type": "stream",
     "text": [
      "C:\\Users\\Socrates\\Anaconda3\\lib\\site-packages\\sklearn\\preprocessing\\label.py:95: DataConversionWarning: A column-vector y was passed when a 1d array was expected. Please change the shape of y to (n_samples, ), for example using ravel().\n",
      "  y = column_or_1d(y, warn=True)\n",
      "C:\\Users\\Socrates\\Anaconda3\\lib\\site-packages\\sklearn\\preprocessing\\label.py:128: DataConversionWarning: A column-vector y was passed when a 1d array was expected. Please change the shape of y to (n_samples, ), for example using ravel().\n",
      "  y = column_or_1d(y, warn=True)\n"
     ]
    },
    {
     "name": "stdout",
     "output_type": "stream",
     "text": [
      " xgb accuracy in  4  fold :  0.9428571428571428\n"
     ]
    },
    {
     "name": "stderr",
     "output_type": "stream",
     "text": [
      "C:\\Users\\Socrates\\Anaconda3\\lib\\site-packages\\sklearn\\preprocessing\\label.py:95: DataConversionWarning: A column-vector y was passed when a 1d array was expected. Please change the shape of y to (n_samples, ), for example using ravel().\n",
      "  y = column_or_1d(y, warn=True)\n",
      "C:\\Users\\Socrates\\Anaconda3\\lib\\site-packages\\sklearn\\preprocessing\\label.py:128: DataConversionWarning: A column-vector y was passed when a 1d array was expected. Please change the shape of y to (n_samples, ), for example using ravel().\n",
      "  y = column_or_1d(y, warn=True)\n"
     ]
    },
    {
     "name": "stdout",
     "output_type": "stream",
     "text": [
      " xgb accuracy in  5  fold :  0.9428571428571428\n"
     ]
    },
    {
     "name": "stderr",
     "output_type": "stream",
     "text": [
      "C:\\Users\\Socrates\\Anaconda3\\lib\\site-packages\\sklearn\\preprocessing\\label.py:95: DataConversionWarning: A column-vector y was passed when a 1d array was expected. Please change the shape of y to (n_samples, ), for example using ravel().\n",
      "  y = column_or_1d(y, warn=True)\n",
      "C:\\Users\\Socrates\\Anaconda3\\lib\\site-packages\\sklearn\\preprocessing\\label.py:128: DataConversionWarning: A column-vector y was passed when a 1d array was expected. Please change the shape of y to (n_samples, ), for example using ravel().\n",
      "  y = column_or_1d(y, warn=True)\n"
     ]
    },
    {
     "name": "stdout",
     "output_type": "stream",
     "text": [
      " xgb accuracy in  6  fold :  0.9428571428571428\n"
     ]
    },
    {
     "name": "stderr",
     "output_type": "stream",
     "text": [
      "C:\\Users\\Socrates\\Anaconda3\\lib\\site-packages\\sklearn\\preprocessing\\label.py:95: DataConversionWarning: A column-vector y was passed when a 1d array was expected. Please change the shape of y to (n_samples, ), for example using ravel().\n",
      "  y = column_or_1d(y, warn=True)\n",
      "C:\\Users\\Socrates\\Anaconda3\\lib\\site-packages\\sklearn\\preprocessing\\label.py:128: DataConversionWarning: A column-vector y was passed when a 1d array was expected. Please change the shape of y to (n_samples, ), for example using ravel().\n",
      "  y = column_or_1d(y, warn=True)\n"
     ]
    },
    {
     "name": "stdout",
     "output_type": "stream",
     "text": [
      " xgb accuracy in  7  fold :  0.9571428571428572\n"
     ]
    },
    {
     "name": "stderr",
     "output_type": "stream",
     "text": [
      "C:\\Users\\Socrates\\Anaconda3\\lib\\site-packages\\sklearn\\preprocessing\\label.py:95: DataConversionWarning: A column-vector y was passed when a 1d array was expected. Please change the shape of y to (n_samples, ), for example using ravel().\n",
      "  y = column_or_1d(y, warn=True)\n",
      "C:\\Users\\Socrates\\Anaconda3\\lib\\site-packages\\sklearn\\preprocessing\\label.py:128: DataConversionWarning: A column-vector y was passed when a 1d array was expected. Please change the shape of y to (n_samples, ), for example using ravel().\n",
      "  y = column_or_1d(y, warn=True)\n"
     ]
    },
    {
     "name": "stdout",
     "output_type": "stream",
     "text": [
      " xgb accuracy in  8  fold :  0.9571428571428572\n"
     ]
    },
    {
     "name": "stderr",
     "output_type": "stream",
     "text": [
      "C:\\Users\\Socrates\\Anaconda3\\lib\\site-packages\\sklearn\\preprocessing\\label.py:95: DataConversionWarning: A column-vector y was passed when a 1d array was expected. Please change the shape of y to (n_samples, ), for example using ravel().\n",
      "  y = column_or_1d(y, warn=True)\n",
      "C:\\Users\\Socrates\\Anaconda3\\lib\\site-packages\\sklearn\\preprocessing\\label.py:128: DataConversionWarning: A column-vector y was passed when a 1d array was expected. Please change the shape of y to (n_samples, ), for example using ravel().\n",
      "  y = column_or_1d(y, warn=True)\n"
     ]
    },
    {
     "name": "stdout",
     "output_type": "stream",
     "text": [
      " xgb accuracy in  9  fold :  0.9285714285714286\n"
     ]
    },
    {
     "name": "stderr",
     "output_type": "stream",
     "text": [
      "C:\\Users\\Socrates\\Anaconda3\\lib\\site-packages\\sklearn\\preprocessing\\label.py:95: DataConversionWarning: A column-vector y was passed when a 1d array was expected. Please change the shape of y to (n_samples, ), for example using ravel().\n",
      "  y = column_or_1d(y, warn=True)\n",
      "C:\\Users\\Socrates\\Anaconda3\\lib\\site-packages\\sklearn\\preprocessing\\label.py:128: DataConversionWarning: A column-vector y was passed when a 1d array was expected. Please change the shape of y to (n_samples, ), for example using ravel().\n",
      "  y = column_or_1d(y, warn=True)\n"
     ]
    },
    {
     "name": "stdout",
     "output_type": "stream",
     "text": [
      " xgb accuracy in  10  fold :  0.9714285714285714\n"
     ]
    }
   ],
   "source": [
    "counter = 0\n",
    "mean_xgb=[]\n",
    "\n",
    "for train, test in cv.split(X_ros, y_ros):\n",
    "    counter +=1\n",
    "    xgb1.fit(X_ros.loc[train], y_ros.loc[train])\n",
    "    y_pred = xgb1.predict(X)\n",
    "    accuracy=accuracy_score( y_pred, y )\n",
    "    mean_xgb.append(accuracy)\n",
    "\n",
    "    print(' xgb accuracy in ',counter,' fold : ',accuracy)\n",
    "mean_xgb=np.array(mean_xgb)"
   ]
  },
  {
   "cell_type": "code",
   "execution_count": 121,
   "metadata": {},
   "outputs": [
    {
     "name": "stdout",
     "output_type": "stream",
     "text": [
      "mean accuracy of xgb = 0.9542857142857143\n",
      "SD of xgb accuracy = 0.01538618516324145\n"
     ]
    }
   ],
   "source": [
    "print('mean accuracy of xgb =',np.mean(mean_xgb))\n",
    "print('SD of xgb accuracy =',np.std(mean_xgb))"
   ]
  },
  {
   "cell_type": "markdown",
   "metadata": {},
   "source": [
    "Let's have a look at the confusion Matrix"
   ]
  },
  {
   "cell_type": "code",
   "execution_count": 122,
   "metadata": {},
   "outputs": [
    {
     "data": {
      "text/plain": [
       "array([[ 2,  0,  0,  0,  0,  0,  0],\n",
       "       [ 0,  7,  0,  0,  0,  0,  0],\n",
       "       [ 0,  0,  1,  0,  0,  0,  0],\n",
       "       [ 0,  0,  0, 12,  0,  1,  0],\n",
       "       [ 0,  0,  0,  0,  3,  0,  1],\n",
       "       [ 0,  0,  0,  0,  0, 28,  0],\n",
       "       [ 0,  0,  0,  0,  0,  0, 15]], dtype=int64)"
      ]
     },
     "execution_count": 122,
     "metadata": {},
     "output_type": "execute_result"
    }
   ],
   "source": [
    "confusion_matrix(y_pred,y)"
   ]
  },
  {
   "cell_type": "markdown",
   "metadata": {},
   "source": [
    "Let's get a prettier confusion matrix!"
   ]
  },
  {
   "cell_type": "code",
   "execution_count": 123,
   "metadata": {},
   "outputs": [],
   "source": [
    "confusion_matrix=confusion_matrix(y_pred,y)"
   ]
  },
  {
   "cell_type": "code",
   "execution_count": 124,
   "metadata": {},
   "outputs": [
    {
     "data": {
      "image/png": "[encoded data removed]",
      "text/plain": [
       "<Figure size 432x288 with 2 Axes>"
      ]
     },
     "metadata": {},
     "output_type": "display_data"
    }
   ],
   "source": [
    "import itertools\n",
    "cm=confusion_matrix \n",
    "classes=[]\n",
    "temp=[]\n",
    "for i in range(len(y_pred)):\n",
    "    if y_pred[i] not in y.unique():\n",
    "        if y_pred[i] not in temp:\n",
    "            temp.append(y_pred[i])\n",
    "for i in range (len(y.unique())):\n",
    "    classes.append(y.unique()[i])\n",
    "for i in range(len(temp)):\n",
    "    classes.append(temp[i])\n",
    "classes=sorted(classes)\n",
    "plt.figure()\n",
    "plt.imshow(cm, interpolation='nearest', cmap=plt.cm.Purples)\n",
    "plt.title('Confusion matrix')\n",
    "plt.colorbar()\n",
    "tick_marks = np.arange(len(classes))\n",
    "plt.xticks(tick_marks, classes, rotation=45)\n",
    "plt.yticks(tick_marks, classes)\n",
    "fmt ='d' #'.2f'\n",
    "thresh = cm.max() / 2.\n",
    "for i, j in itertools.product(range(cm.shape[0]), range(cm.shape[1])):\n",
    "        plt.text(j, i, format(cm[i, j], fmt),\n",
    "                    horizontalalignment=\"center\",\n",
    "                     color=\"white\" if cm[i, j] > thresh else \"black\")\n",
    "plt.tight_layout()\n",
    "plt.xlabel('True label')    \n",
    "plt.ylabel('Predicted label')\n",
    "plt.show()"
   ]
  },
  {
   "cell_type": "code",
   "execution_count": null,
   "metadata": {},
   "outputs": [],
   "source": []
  },
  {
   "cell_type": "code",
   "execution_count": null,
   "metadata": {},
   "outputs": [],
   "source": []
  }
 ],
 "metadata": {
  "kernelspec": {
   "display_name": "Python 3",
   "language": "python",
   "name": "python3"
  },
  "language_info": {
   "codemirror_mode": {
    "name": "ipython",
    "version": 3
   },
   "file_extension": ".py",
   "mimetype": "text/x-python",
   "name": "python",
   "nbconvert_exporter": "python",
   "pygments_lexer": "ipython3",
   "version": "3.6.5"
  }
 },
 "nbformat": 4,
 "nbformat_minor": 2
}
